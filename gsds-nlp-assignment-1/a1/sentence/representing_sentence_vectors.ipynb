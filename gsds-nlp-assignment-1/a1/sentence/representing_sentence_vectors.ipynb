{
 "cells": [
  {
   "cell_type": "markdown",
   "metadata": {},
   "source": [
    "# Assignment 1 Q3: Sentence Representation\n",
    "\n",
    "Based on word representation which we learned from Question 1 and 2, we will represent sentence by averag-ing vectors of words consisting of sentences. Skeleton code is provided on this file. Every methods and functions are presented for you. What you are supposed to do is just run those codes and write down your answer\n"
   ]
  },
  {
   "cell_type": "code",
   "execution_count": 1,
   "metadata": {},
   "outputs": [
    {
     "name": "stderr",
     "output_type": "stream",
     "text": [
      "[nltk_data] Downloading package reuters to\n",
      "[nltk_data]     /Users/heejinchae/nltk_data...\n",
      "[nltk_data]   Package reuters is already up-to-date!\n",
      "[nltk_data] Downloading package stopwords to\n",
      "[nltk_data]     /Users/heejinchae/nltk_data...\n",
      "[nltk_data]   Unzipping corpora/stopwords.zip.\n",
      "[nltk_data] Downloading package punkt to\n",
      "[nltk_data]     /Users/heejinchae/nltk_data...\n",
      "[nltk_data]   Unzipping tokenizers/punkt.zip.\n"
     ]
    }
   ],
   "source": [
    "# All Import Statements Defined Here\n",
    "# Note: Do not add to this list.\n",
    "# ----------------\n",
    "\n",
    "import sys\n",
    "assert sys.version_info[0]==3\n",
    "assert sys.version_info[1] >= 5\n",
    "\n",
    "from platform import python_version\n",
    "assert int(python_version().split(\".\")[1]) >= 5, \"Please upgrade your Python version following the instructions in \\\n",
    "    the README.txt file found in the same directory as this notebook. Your Python version is \" + python_version()\n",
    "from nltk.corpus import stopwords\n",
    "from gensim.models import KeyedVectors\n",
    "from gensim.test.utils import datapath\n",
    "import pprint\n",
    "import matplotlib.pyplot as plt\n",
    "plt.rcParams['figure.figsize'] = [10, 5]\n",
    "import nltk\n",
    "nltk.download('reuters') #to specify download location, optionally add the argument: download_dir='/specify/desired/path/'\n",
    "nltk.download('stopwords')\n",
    "nltk.download('punkt')\n",
    "from nltk.corpus import reuters\n",
    "from nltk.tokenize import WordPunctTokenizer\n",
    "from nltk.tokenize import word_tokenize\n",
    "import numpy as np\n",
    "import random\n",
    "import scipy as sp\n",
    "from sklearn.decomposition import TruncatedSVD\n",
    "from sklearn.decomposition import PCA\n",
    "from nltk.tokenize import word_tokenize\n",
    "START_TOKEN = '<START>'\n",
    "END_TOKEN = '<END>'\n",
    "\n",
    "np.random.seed(0)\n",
    "random.seed(0)\n",
    "# ----------------"
   ]
  },
  {
   "cell_type": "markdown",
   "metadata": {},
   "source": [
    "Here, we will be using the Reuters (business and financial news) corpus. If you haven't run the import cell at the top of this page, please run it now (click it and press SHIFT-RETURN). The corpus consists of 10,788 news documents totaling 1.3 million words. These documents span 90 categories and are split into train and test. For more details, please see https://www.nltk.org/book/ch02.html. You do **not** have to perform any other kind of pre-processing."
   ]
  },
  {
   "cell_type": "code",
   "execution_count": 2,
   "metadata": {},
   "outputs": [],
   "source": [
    "def read_corpus():\n",
    "    \"\"\" Read files from the specified Reuter's category.\n",
    "        Params:\n",
    "            category (string): category name\n",
    "        Return:\n",
    "            list of lists, with words from each of the processed files\n",
    "    \"\"\"\n",
    "    files = reuters.fileids()\n",
    "    return [[START_TOKEN] + [w.lower() for w in list(reuters.words(f))] + [END_TOKEN] for f in files]\n"
   ]
  },
  {
   "cell_type": "markdown",
   "metadata": {},
   "source": [
    "Let's have a look what these documents are like…."
   ]
  },
  {
   "cell_type": "code",
   "execution_count": 3,
   "metadata": {
    "scrolled": true
   },
   "outputs": [
    {
     "name": "stdout",
     "output_type": "stream",
     "text": [
      "[['<START>', 'asian', 'exporters', 'fear', 'damage', 'from', 'u', '.', 's', '.-', 'japan', 'rift',\n",
      "  'mounting', 'trade', 'friction', 'between', 'the', 'u', '.', 's', '.', 'and', 'japan', 'has',\n",
      "  'raised', 'fears', 'among', 'many', 'of', 'asia', \"'\", 's', 'exporting', 'nations', 'that', 'the',\n",
      "  'row', 'could', 'inflict', 'far', '-', 'reaching', 'economic', 'damage', ',', 'businessmen',\n",
      "  'and', 'officials', 'said', '.', 'they', 'told', 'reuter', 'correspondents', 'in', 'asian',\n",
      "  'capitals', 'a', 'u', '.', 's', '.', 'move', 'against', 'japan', 'might', 'boost',\n",
      "  'protectionist', 'sentiment', 'in', 'the', 'u', '.', 's', '.', 'and', 'lead', 'to', 'curbs', 'on',\n",
      "  'american', 'imports', 'of', 'their', 'products', '.', 'but', 'some', 'exporters', 'said', 'that',\n",
      "  'while', 'the', 'conflict', 'would', 'hurt', 'them', 'in', 'the', 'long', '-', 'run', ',', 'in',\n",
      "  'the', 'short', '-', 'term', 'tokyo', \"'\", 's', 'loss', 'might', 'be', 'their', 'gain', '.',\n",
      "  'the', 'u', '.', 's', '.', 'has', 'said', 'it', 'will', 'impose', '300', 'mln', 'dlrs', 'of',\n",
      "  'tariffs', 'on', 'imports', 'of', 'japanese', 'electronics', 'goods', 'on', 'april', '17', ',',\n",
      "  'in', 'retaliation', 'for', 'japan', \"'\", 's', 'alleged', 'failure', 'to', 'stick', 'to', 'a',\n",
      "  'pact', 'not', 'to', 'sell', 'semiconductors', 'on', 'world', 'markets', 'at', 'below', 'cost',\n",
      "  '.', 'unofficial', 'japanese', 'estimates', 'put', 'the', 'impact', 'of', 'the', 'tariffs', 'at',\n",
      "  '10', 'billion', 'dlrs', 'and', 'spokesmen', 'for', 'major', 'electronics', 'firms', 'said',\n",
      "  'they', 'would', 'virtually', 'halt', 'exports', 'of', 'products', 'hit', 'by', 'the', 'new',\n",
      "  'taxes', '.', '\"', 'we', 'wouldn', \"'\", 't', 'be', 'able', 'to', 'do', 'business', ',\"', 'said',\n",
      "  'a', 'spokesman', 'for', 'leading', 'japanese', 'electronics', 'firm', 'matsushita', 'electric',\n",
      "  'industrial', 'co', 'ltd', '&', 'lt', ';', 'mc', '.', 't', '>.', '\"', 'if', 'the', 'tariffs',\n",
      "  'remain', 'in', 'place', 'for', 'any', 'length', 'of', 'time', 'beyond', 'a', 'few', 'months',\n",
      "  'it', 'will', 'mean', 'the', 'complete', 'erosion', 'of', 'exports', '(', 'of', 'goods',\n",
      "  'subject', 'to', 'tariffs', ')', 'to', 'the', 'u', '.', 's', '.,\"', 'said', 'tom', 'murtha', ',',\n",
      "  'a', 'stock', 'analyst', 'at', 'the', 'tokyo', 'office', 'of', 'broker', '&', 'lt', ';', 'james',\n",
      "  'capel', 'and', 'co', '>.', 'in', 'taiwan', ',', 'businessmen', 'and', 'officials', 'are', 'also',\n",
      "  'worried', '.', '\"', 'we', 'are', 'aware', 'of', 'the', 'seriousness', 'of', 'the', 'u', '.', 's',\n",
      "  '.', 'threat', 'against', 'japan', 'because', 'it', 'serves', 'as', 'a', 'warning', 'to', 'us',\n",
      "  ',\"', 'said', 'a', 'senior', 'taiwanese', 'trade', 'official', 'who', 'asked', 'not', 'to', 'be',\n",
      "  'named', '.', 'taiwan', 'had', 'a', 'trade', 'trade', 'surplus', 'of', '15', '.', '6', 'billion',\n",
      "  'dlrs', 'last', 'year', ',', '95', 'pct', 'of', 'it', 'with', 'the', 'u', '.', 's', '.', 'the',\n",
      "  'surplus', 'helped', 'swell', 'taiwan', \"'\", 's', 'foreign', 'exchange', 'reserves', 'to', '53',\n",
      "  'billion', 'dlrs', ',', 'among', 'the', 'world', \"'\", 's', 'largest', '.', '\"', 'we', 'must',\n",
      "  'quickly', 'open', 'our', 'markets', ',', 'remove', 'trade', 'barriers', 'and', 'cut', 'import',\n",
      "  'tariffs', 'to', 'allow', 'imports', 'of', 'u', '.', 's', '.', 'products', ',', 'if', 'we',\n",
      "  'want', 'to', 'defuse', 'problems', 'from', 'possible', 'u', '.', 's', '.', 'retaliation', ',\"',\n",
      "  'said', 'paul', 'sheen', ',', 'chairman', 'of', 'textile', 'exporters', '&', 'lt', ';', 'taiwan',\n",
      "  'safe', 'group', '>.', 'a', 'senior', 'official', 'of', 'south', 'korea', \"'\", 's', 'trade',\n",
      "  'promotion', 'association', 'said', 'the', 'trade', 'dispute', 'between', 'the', 'u', '.', 's',\n",
      "  '.', 'and', 'japan', 'might', 'also', 'lead', 'to', 'pressure', 'on', 'south', 'korea', ',',\n",
      "  'whose', 'chief', 'exports', 'are', 'similar', 'to', 'those', 'of', 'japan', '.', 'last', 'year',\n",
      "  'south', 'korea', 'had', 'a', 'trade', 'surplus', 'of', '7', '.', '1', 'billion', 'dlrs', 'with',\n",
      "  'the', 'u', '.', 's', '.,', 'up', 'from', '4', '.', '9', 'billion', 'dlrs', 'in', '1985', '.',\n",
      "  'in', 'malaysia', ',', 'trade', 'officers', 'and', 'businessmen', 'said', 'tough', 'curbs',\n",
      "  'against', 'japan', 'might', 'allow', 'hard', '-', 'hit', 'producers', 'of', 'semiconductors',\n",
      "  'in', 'third', 'countries', 'to', 'expand', 'their', 'sales', 'to', 'the', 'u', '.', 's', '.',\n",
      "  'in', 'hong', 'kong', ',', 'where', 'newspapers', 'have', 'alleged', 'japan', 'has', 'been',\n",
      "  'selling', 'below', '-', 'cost', 'semiconductors', ',', 'some', 'electronics', 'manufacturers',\n",
      "  'share', 'that', 'view', '.', 'but', 'other', 'businessmen', 'said', 'such', 'a', 'short', '-',\n",
      "  'term', 'commercial', 'advantage', 'would', 'be', 'outweighed', 'by', 'further', 'u', '.', 's',\n",
      "  '.', 'pressure', 'to', 'block', 'imports', '.', '\"', 'that', 'is', 'a', 'very', 'short', '-',\n",
      "  'term', 'view', ',\"', 'said', 'lawrence', 'mills', ',', 'director', '-', 'general', 'of', 'the',\n",
      "  'federation', 'of', 'hong', 'kong', 'industry', '.', '\"', 'if', 'the', 'whole', 'purpose', 'is',\n",
      "  'to', 'prevent', 'imports', ',', 'one', 'day', 'it', 'will', 'be', 'extended', 'to', 'other',\n",
      "  'sources', '.', 'much', 'more', 'serious', 'for', 'hong', 'kong', 'is', 'the', 'disadvantage',\n",
      "  'of', 'action', 'restraining', 'trade', ',\"', 'he', 'said', '.', 'the', 'u', '.', 's', '.',\n",
      "  'last', 'year', 'was', 'hong', 'kong', \"'\", 's', 'biggest', 'export', 'market', ',', 'accounting',\n",
      "  'for', 'over', '30', 'pct', 'of', 'domestically', 'produced', 'exports', '.', 'the', 'australian',\n",
      "  'government', 'is', 'awaiting', 'the', 'outcome', 'of', 'trade', 'talks', 'between', 'the', 'u',\n",
      "  '.', 's', '.', 'and', 'japan', 'with', 'interest', 'and', 'concern', ',', 'industry', 'minister',\n",
      "  'john', 'button', 'said', 'in', 'canberra', 'last', 'friday', '.', '\"', 'this', 'kind', 'of',\n",
      "  'deterioration', 'in', 'trade', 'relations', 'between', 'two', 'countries', 'which', 'are',\n",
      "  'major', 'trading', 'partners', 'of', 'ours', 'is', 'a', 'very', 'serious', 'matter', ',\"',\n",
      "  'button', 'said', '.', 'he', 'said', 'australia', \"'\", 's', 'concerns', 'centred', 'on', 'coal',\n",
      "  'and', 'beef', ',', 'australia', \"'\", 's', 'two', 'largest', 'exports', 'to', 'japan', 'and',\n",
      "  'also', 'significant', 'u', '.', 's', '.', 'exports', 'to', 'that', 'country', '.', 'meanwhile',\n",
      "  'u', '.', 's', '.-', 'japanese', 'diplomatic', 'manoeuvres', 'to', 'solve', 'the', 'trade',\n",
      "  'stand', '-', 'off', 'continue', '.', 'japan', \"'\", 's', 'ruling', 'liberal', 'democratic',\n",
      "  'party', 'yesterday', 'outlined', 'a', 'package', 'of', 'economic', 'measures', 'to', 'boost',\n",
      "  'the', 'japanese', 'economy', '.', 'the', 'measures', 'proposed', 'include', 'a', 'large',\n",
      "  'supplementary', 'budget', 'and', 'record', 'public', 'works', 'spending', 'in', 'the', 'first',\n",
      "  'half', 'of', 'the', 'financial', 'year', '.', 'they', 'also', 'call', 'for', 'stepped', '-',\n",
      "  'up', 'spending', 'as', 'an', 'emergency', 'measure', 'to', 'stimulate', 'the', 'economy',\n",
      "  'despite', 'prime', 'minister', 'yasuhiro', 'nakasone', \"'\", 's', 'avowed', 'fiscal', 'reform',\n",
      "  'program', '.', 'deputy', 'u', '.', 's', '.', 'trade', 'representative', 'michael', 'smith',\n",
      "  'and', 'makoto', 'kuroda', ',', 'japan', \"'\", 's', 'deputy', 'minister', 'of', 'international',\n",
      "  'trade', 'and', 'industry', '(', 'miti', '),', 'are', 'due', 'to', 'meet', 'in', 'washington',\n",
      "  'this', 'week', 'in', 'an', 'effort', 'to', 'end', 'the', 'dispute', '.', '<END>'],\n",
      " ['<START>', 'china', 'daily', 'says', 'vermin', 'eat', '7', '-', '12', 'pct', 'grain', 'stocks',\n",
      "  'a', 'survey', 'of', '19', 'provinces', 'and', 'seven', 'cities', 'showed', 'vermin', 'consume',\n",
      "  'between', 'seven', 'and', '12', 'pct', 'of', 'china', \"'\", 's', 'grain', 'stocks', ',', 'the',\n",
      "  'china', 'daily', 'said', '.', 'it', 'also', 'said', 'that', 'each', 'year', '1', '.', '575',\n",
      "  'mln', 'tonnes', ',', 'or', '25', 'pct', ',', 'of', 'china', \"'\", 's', 'fruit', 'output', 'are',\n",
      "  'left', 'to', 'rot', ',', 'and', '2', '.', '1', 'mln', 'tonnes', ',', 'or', 'up', 'to', '30',\n",
      "  'pct', ',', 'of', 'its', 'vegetables', '.', 'the', 'paper', 'blamed', 'the', 'waste', 'on',\n",
      "  'inadequate', 'storage', 'and', 'bad', 'preservation', 'methods', '.', 'it', 'said', 'the',\n",
      "  'government', 'had', 'launched', 'a', 'national', 'programme', 'to', 'reduce', 'waste', ',',\n",
      "  'calling', 'for', 'improved', 'technology', 'in', 'storage', 'and', 'preservation', ',', 'and',\n",
      "  'greater', 'production', 'of', 'additives', '.', 'the', 'paper', 'gave', 'no', 'further',\n",
      "  'details', '.', '<END>'],\n",
      " ['<START>', 'japan', 'to', 'revise', 'long', '-', 'term', 'energy', 'demand', 'downwards', 'the',\n",
      "  'ministry', 'of', 'international', 'trade', 'and', 'industry', '(', 'miti', ')', 'will', 'revise',\n",
      "  'its', 'long', '-', 'term', 'energy', 'supply', '/', 'demand', 'outlook', 'by', 'august', 'to',\n",
      "  'meet', 'a', 'forecast', 'downtrend', 'in', 'japanese', 'energy', 'demand', ',', 'ministry',\n",
      "  'officials', 'said', '.', 'miti', 'is', 'expected', 'to', 'lower', 'the', 'projection', 'for',\n",
      "  'primary', 'energy', 'supplies', 'in', 'the', 'year', '2000', 'to', '550', 'mln', 'kilolitres',\n",
      "  '(', 'kl', ')', 'from', '600', 'mln', ',', 'they', 'said', '.', 'the', 'decision', 'follows',\n",
      "  'the', 'emergence', 'of', 'structural', 'changes', 'in', 'japanese', 'industry', 'following',\n",
      "  'the', 'rise', 'in', 'the', 'value', 'of', 'the', 'yen', 'and', 'a', 'decline', 'in', 'domestic',\n",
      "  'electric', 'power', 'demand', '.', 'miti', 'is', 'planning', 'to', 'work', 'out', 'a', 'revised',\n",
      "  'energy', 'supply', '/', 'demand', 'outlook', 'through', 'deliberations', 'of', 'committee',\n",
      "  'meetings', 'of', 'the', 'agency', 'of', 'natural', 'resources', 'and', 'energy', ',', 'the',\n",
      "  'officials', 'said', '.', 'they', 'said', 'miti', 'will', 'also', 'review', 'the', 'breakdown',\n",
      "  'of', 'energy', 'supply', 'sources', ',', 'including', 'oil', ',', 'nuclear', ',', 'coal', 'and',\n",
      "  'natural', 'gas', '.', 'nuclear', 'energy', 'provided', 'the', 'bulk', 'of', 'japan', \"'\", 's',\n",
      "  'electric', 'power', 'in', 'the', 'fiscal', 'year', 'ended', 'march', '31', ',', 'supplying',\n",
      "  'an', 'estimated', '27', 'pct', 'on', 'a', 'kilowatt', '/', 'hour', 'basis', ',', 'followed',\n",
      "  'by', 'oil', '(', '23', 'pct', ')', 'and', 'liquefied', 'natural', 'gas', '(', '21', 'pct', '),',\n",
      "  'they', 'noted', '.', '<END>']]\n"
     ]
    }
   ],
   "source": [
    "reuters_corpus = read_corpus()\n",
    "pprint.pprint(reuters_corpus[:3], compact=True, width=100)"
   ]
  },
  {
   "cell_type": "markdown",
   "metadata": {},
   "source": [
    "## Vector Representation of Sentences\n",
    "\n",
    "As discussed in class, more recently prediction-based word vectors have demonstrated better performance, such as word2vec and GloVe . Here, we shall represent the sentence by averaging word embeddings produced by GloVe. If you want to know further details of GloVe, try reading [GloVe's original paper](https://nlp.stanford.edu/pubs/glove.pdf).\n",
    "\n",
    "Then run the following cells to load the GloVe vectors into memory. **Note**: If this is your first time to run these cells, i.e. download the embedding model, it will take a couple minutes to run. If you've run these cells before, rerunning them will load the model without redownloading it, which will take about 1 to 2 minutes."
   ]
  },
  {
   "cell_type": "code",
   "execution_count": 4,
   "metadata": {},
   "outputs": [],
   "source": [
    "def load_embedding_model():\n",
    "    \"\"\" Load GloVe Vectors\n",
    "        Return:\n",
    "            wv_from_bin: All 400000 embeddings, each lengh 200\n",
    "    \"\"\"\n",
    "    import gensim.downloader as api\n",
    "    wv_from_bin = api.load(\"glove-wiki-gigaword-200\")\n",
    "    print(\"Loaded vocab size %i\" % len(list(wv_from_bin.index_to_key)))\n",
    "    return wv_from_bin"
   ]
  },
  {
   "cell_type": "code",
   "execution_count": 5,
   "metadata": {},
   "outputs": [
    {
     "name": "stdout",
     "output_type": "stream",
     "text": [
      "Loaded vocab size 400000\n"
     ]
    }
   ],
   "source": [
    "# -----------------------------------\n",
    "# Run Cell to Load Word Vectors\n",
    "# Note: This will take a couple minutes\n",
    "# -----------------------------------\n",
    "wv_from_bin = load_embedding_model()"
   ]
  },
  {
   "cell_type": "markdown",
   "metadata": {},
   "source": [
    "#### Note\n",
    "(1) If you are receiving a \"reset by peer\" error, rerun the cell to restart the download. \n",
    "\n",
    "(2) If you are receiving out of memory issues on your local machine, try closing other applications to free more memory on your device. You may want to try restarting your machine so that you can free up extra memory. Then immediately run the jupyter notebook and see if you can load the word vectors properly. If you still have problems with loading the embeddings onto your local machine after this, please go to office hours or contact course TA."
   ]
  },
  {
   "cell_type": "markdown",
   "metadata": {},
   "source": [
    "### Problem (a): Tokenization\n",
    "Tokenization splits a sentence (string) into tokens, rough equivalent to words and punctuation. For example, to process the sentence 'I love New York', the given sentence need to be tokenized to ['I', 'love', 'New', 'York']. Many NLP libraries and packages support tokenization, because it is one of the most fundamental steps in NLP pipeline. However, there is no standard solution that every NLP practitioners agrees upon. Let's compare how different NLP packages tokenize sentences."
   ]
  },
  {
   "cell_type": "code",
   "execution_count": 6,
   "metadata": {},
   "outputs": [
    {
     "name": "stdout",
     "output_type": "stream",
     "text": [
      "tokenization of sentence 1 ['The', 'BBC', \"'s\", 'correspondent', 'in', 'Athens', ',', 'Malcolm', 'Brabant', ',', 'said', 'that', 'in', 'the', 'past', 'few', 'weeks', 'more', 'details', 'had', 'emerged', 'of', 'the', 'alleged', 'mistreatment', 'by', 'Greek-speaking', 'agents', '.']\n",
      "tokenization of sentence 1 ['The', 'BBC', \"'\", 's', 'correspondent', 'in', 'Athens', ',', 'Malcolm', 'Brabant', ',', 'said', 'that', 'in', 'the', 'past', 'few', 'weeks', 'more', 'details', 'had', 'emerged', 'of', 'the', 'alleged', 'mistreatment', 'by', 'Greek', '-', 'speaking', 'agents', '.']\n",
      "tokenization of sentence 2 ['A', 'new', 'chapter', 'has', 'been', 'written', 'into', 'Australia', \"'s\", 'rich', 'sporting', 'history', 'after', 'the', 'Socceroos', 'qualified', 'for', 'the', 'World', 'Cup', 'finals', 'following', 'their', '4-2', 'win', 'over', 'Uruguay', 'on', 'penalties', 'at', 'the', 'Olympic', 'Stadium', 'in', 'Sydney', '.']\n",
      "tokenization of sentence 2 ['A', 'new', 'chapter', 'has', 'been', 'written', 'into', 'Australia', \"'\", 's', 'rich', 'sporting', 'history', 'after', 'the', 'Socceroos', 'qualified', 'for', 'the', 'World', 'Cup', 'finals', 'following', 'their', '4', '-', '2', 'win', 'over', 'Uruguay', 'on', 'penalties', 'at', 'the', 'Olympic', 'Stadium', 'in', 'Sydney', '.']\n"
     ]
    }
   ],
   "source": [
    "sentence1=\"The BBC's correspondent in Athens, Malcolm Brabant, said that in the past few weeks more details had emerged of the alleged mistreatment by Greek-speaking agents.\"\n",
    "sentence2=\"A new chapter has been written into Australia's rich sporting history after the Socceroos qualified for the World Cup finals following their 4-2 win over Uruguay on penalties at the Olympic Stadium in Sydney.\"\n",
    "\n",
    "print(\"tokenization of sentence 1\", word_tokenize(sentence1))\n",
    "print(\"tokenization of sentence 1\", WordPunctTokenizer().tokenize(sentence1))\n",
    "print(\"tokenization of sentence 2\", word_tokenize(sentence2))\n",
    "print(\"tokenization of sentence 2\", WordPunctTokenizer().tokenize(sentence2))"
   ]
  },
  {
   "cell_type": "markdown",
   "metadata": {},
   "source": [
    "### Problem (b): Stopword\n",
    "Stop words are the words in a stop list which are filtered out (i.e. stopped) before or after processing of natural language data (text). Let's check out the english stopwords list of NLTK as running the code below."
   ]
  },
  {
   "cell_type": "code",
   "execution_count": 7,
   "metadata": {},
   "outputs": [
    {
     "name": "stdout",
     "output_type": "stream",
     "text": [
      "# of stop word list : 179\n",
      "The whole stop word list ['i', 'me', 'my', 'myself', 'we', 'our', 'ours', 'ourselves', 'you', \"you're\", \"you've\", \"you'll\", \"you'd\", 'your', 'yours', 'yourself', 'yourselves', 'he', 'him', 'his', 'himself', 'she', \"she's\", 'her', 'hers', 'herself', 'it', \"it's\", 'its', 'itself', 'they', 'them', 'their', 'theirs', 'themselves', 'what', 'which', 'who', 'whom', 'this', 'that', \"that'll\", 'these', 'those', 'am', 'is', 'are', 'was', 'were', 'be', 'been', 'being', 'have', 'has', 'had', 'having', 'do', 'does', 'did', 'doing', 'a', 'an', 'the', 'and', 'but', 'if', 'or', 'because', 'as', 'until', 'while', 'of', 'at', 'by', 'for', 'with', 'about', 'against', 'between', 'into', 'through', 'during', 'before', 'after', 'above', 'below', 'to', 'from', 'up', 'down', 'in', 'out', 'on', 'off', 'over', 'under', 'again', 'further', 'then', 'once', 'here', 'there', 'when', 'where', 'why', 'how', 'all', 'any', 'both', 'each', 'few', 'more', 'most', 'other', 'some', 'such', 'no', 'nor', 'not', 'only', 'own', 'same', 'so', 'than', 'too', 'very', 's', 't', 'can', 'will', 'just', 'don', \"don't\", 'should', \"should've\", 'now', 'd', 'll', 'm', 'o', 're', 've', 'y', 'ain', 'aren', \"aren't\", 'couldn', \"couldn't\", 'didn', \"didn't\", 'doesn', \"doesn't\", 'hadn', \"hadn't\", 'hasn', \"hasn't\", 'haven', \"haven't\", 'isn', \"isn't\", 'ma', 'mightn', \"mightn't\", 'mustn', \"mustn't\", 'needn', \"needn't\", 'shan', \"shan't\", 'shouldn', \"shouldn't\", 'wasn', \"wasn't\", 'weren', \"weren't\", 'won', \"won't\", 'wouldn', \"wouldn't\"]\n"
     ]
    }
   ],
   "source": [
    "stop_words_list = stopwords.words('english')\n",
    "print('# of stop word list :', len(stop_words_list))\n",
    "print('The whole stop word list',stop_words_list)"
   ]
  },
  {
   "cell_type": "markdown",
   "metadata": {},
   "source": [
    "Run the code and skim the list. State ***TWO*** reasons why those stopwords are filtered out during the preprocessing."
   ]
  },
  {
   "cell_type": "markdown",
   "metadata": {},
   "source": [
    "### Problem (c)\n",
    "\n",
    "When considering Cosine Similarity, it's often more convenient to think of Cosine Distance, which is simply 1 - Cosine Similarity.\n",
    "\n",
    "Find three sentences $(s_1,s_2,s_3)$ where $s_1$ and $s_2$ are sentences which have similar meanin and $s_1$ and $s_3$ are antonyms, but Cosine Distance $(s_1,s_3) <$ Cosine Distance $(s_1,s_2)$. \n",
    "\n",
    "As an example, $s_1$=\"I like everything of this movie. The only thing I do not like is the cast.\" is closer to $s_3$=\"I do not like everything of this movie. The only thing I like is the cast.\" than to $s_2$=\"I love all about this movie.\" in the vector space. Please find a different example that satisfies the above. Once you have found your example, please give a possible explanation for why this counter-intuitive result may have happened.\n",
    "\n",
    "You should use the the `counter_intuitive_sentences` function which returns true when the condition above is satisfied."
   ]
  },
  {
   "cell_type": "code",
   "execution_count": 8,
   "metadata": {},
   "outputs": [
    {
     "data": {
      "text/plain": [
       "True"
      ]
     },
     "execution_count": 8,
     "metadata": {},
     "output_type": "execute_result"
    }
   ],
   "source": [
    "import math \n",
    "\n",
    "def counter_intuitive_sentences(s1:str,s2:str,s3:str)->bool:\n",
    "    s1_embedding=sentence_embedding(s1)\n",
    "    s2_embedding=sentence_embedding(s2)\n",
    "    s3_embedding=sentence_embedding(s3)\n",
    "    if (cos_distance(s1_embedding,s3_embedding)<cos_distance(s1_embedding,s2_embedding)):\n",
    "        return True\n",
    "    return False\n",
    "\n",
    "def cos_distance(a:np.ndarray, b:np.ndarray)->float:\n",
    "    distance=1-math.fsum(a*b)/math.sqrt(math.fsum(a*a)*math.fsum(b*b))\n",
    "    return distance\n",
    "\n",
    "def sentence_embedding(s: str)->np.ndarray:\n",
    "    s=s.lower()\n",
    "    s=WordPunctTokenizer().tokenize(s)\n",
    "    s_embedding=np.zeros([200,], dtype=np.double)\n",
    "    stop_words=set(stopwords.words('english')) \n",
    "    count=0\n",
    "    for word in s:\n",
    "        if word not in stop_words:\n",
    "            s_embedding+=wv_from_bin.get_vector(word)\n",
    "            count+=1\n",
    "    \n",
    "    s_embedding=s_embedding/count\n",
    "    return s_embedding\n",
    "\n",
    "s1=\"I like everything of this movie. The only thing I do not like is the cast.\"\n",
    "s2=\"I love all about this movie.\"\n",
    "s3=\"I do not like everything of this movie. The only thing I like is the cast.\" \n",
    "    \n",
    "counter_intuitive_sentences(s1,s2,s3)"
   ]
  },
  {
   "cell_type": "code",
   "execution_count": 11,
   "metadata": {},
   "outputs": [
    {
     "name": "stdout",
     "output_type": "stream",
     "text": [
      "True\n"
     ]
    }
   ],
   "source": [
    "#### YOUR EXAMPLE HERE ####\n",
    "s1=\"I want to have all the items in this room. As I love all sort of things here\"\n",
    "s2=\"I eager to have it all in this room\"\n",
    "s3=\"I wouldn't want to have all the items in this room. Because I don't all sort of things here\"\n",
    "#### BELOW SHOULD RETURN TRUE\n",
    "print(counter_intuitive_sentences(s1,s2,s3))\n"
   ]
  }
 ],
 "metadata": {
  "anaconda-cloud": {},
  "kernelspec": {
   "display_name": "Python 3.7.13 ('a1')",
   "language": "python",
   "name": "python3"
  },
  "language_info": {
   "codemirror_mode": {
    "name": "ipython",
    "version": 3
   },
   "file_extension": ".py",
   "mimetype": "text/x-python",
   "name": "python",
   "nbconvert_exporter": "python",
   "pygments_lexer": "ipython3",
   "version": "3.7.13"
  },
  "vscode": {
   "interpreter": {
    "hash": "ec8c32ee267f0b77247536f66c6f437ef243017aefa1ed22759fece47f4c7d07"
   }
  }
 },
 "nbformat": 4,
 "nbformat_minor": 2
}
